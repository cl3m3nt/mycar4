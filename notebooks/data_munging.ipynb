{
 "metadata": {
  "language_info": {
   "codemirror_mode": {
    "name": "ipython",
    "version": 3
   },
   "file_extension": ".py",
   "mimetype": "text/x-python",
   "name": "python",
   "nbconvert_exporter": "python",
   "pygments_lexer": "ipython3",
   "version": "3.7.9-final"
  },
  "orig_nbformat": 2,
  "kernelspec": {
   "name": "Python 3.7.9 64-bit ('donkey4': conda)",
   "display_name": "Python 3.7.9 64-bit ('donkey4': conda)",
   "metadata": {
    "interpreter": {
     "hash": "85f741415a524b66326566eef4f2f72ca44afdccda8e649f59cee4245dabae7d"
    }
   }
  }
 },
 "nbformat": 4,
 "nbformat_minor": 2,
 "cells": [
  {
   "source": [
    "# Angle/Throttle"
   ],
   "cell_type": "markdown",
   "metadata": {}
  },
  {
   "cell_type": "code",
   "execution_count": null,
   "metadata": {},
   "outputs": [],
   "source": [
    "import json\n",
    "import matplotlib.pyplot as plt\n",
    "import pandas as pd\n",
    "import numpy as np\n",
    "import shutil"
   ]
  },
  {
   "cell_type": "code",
   "execution_count": null,
   "metadata": {},
   "outputs": [],
   "source": [
    "catalog0_path = '../data/catalog_0.catalog'\n",
    "catalog1_path = '../data/catalog_1.catalog'\n",
    "catalog2_path = '../data/catalog_2.catalog'\n",
    "\n",
    "json0_path = './catalog0.json'\n",
    "json1_path = './catalog1.json'\n",
    "json2_path = './catalog2.json'"
   ]
  },
  {
   "cell_type": "code",
   "execution_count": null,
   "metadata": {},
   "outputs": [],
   "source": [
    "with open(catalog0_path) as catalog:\n",
    "    data = catalog.readlines()"
   ]
  },
  {
   "cell_type": "code",
   "execution_count": null,
   "metadata": {
    "tags": []
   },
   "outputs": [],
   "source": [
    "with open(json0_path,'w') as test:\n",
    "    for line in data:\n",
    "        line = line.replace(\"\\n\",\"\")\n",
    "        line = f'{line},'\n",
    "        test.write(line)"
   ]
  },
  {
   "cell_type": "code",
   "execution_count": null,
   "metadata": {},
   "outputs": [],
   "source": []
  },
  {
   "cell_type": "code",
   "execution_count": null,
   "metadata": {},
   "outputs": [],
   "source": [
    "# Get Data from JSON file\n",
    "with open(json0_path) as json_file:\n",
    "    json_data = json.load(json_file)\n",
    "# Get Data as a list of Dictionnary\n",
    "data_list = json_data['data']\n",
    "# Get Data as a DataFrame\n",
    "data_df = pd.DataFrame(data_list)\n",
    "data_df.head()"
   ]
  },
  {
   "cell_type": "code",
   "execution_count": null,
   "metadata": {},
   "outputs": [],
   "source": [
    "data_df.describe()"
   ]
  },
  {
   "cell_type": "code",
   "execution_count": null,
   "metadata": {},
   "outputs": [],
   "source": [
    "# plotting Angle\n",
    "plt.hist(data_df['user/angle'])\n",
    "plt.show()"
   ]
  },
  {
   "cell_type": "code",
   "execution_count": null,
   "metadata": {},
   "outputs": [],
   "source": [
    "# plotting Throttle\n",
    "plt.hist(data_df['user/throttle'])\n",
    "plt.show()"
   ]
  },
  {
   "source": [
    "# Images"
   ],
   "cell_type": "markdown",
   "metadata": {}
  },
  {
   "cell_type": "code",
   "execution_count": null,
   "metadata": {},
   "outputs": [],
   "source": [
    "import cv2\n",
    "import matplotlib.pyplot as plt\n",
    "import os"
   ]
  },
  {
   "cell_type": "code",
   "execution_count": null,
   "metadata": {},
   "outputs": [],
   "source": [
    "images_path = '../data/images'\n",
    "cam_array = 'cam_image_array_.jpg'"
   ]
  },
  {
   "cell_type": "code",
   "execution_count": null,
   "metadata": {},
   "outputs": [],
   "source": [
    "image = cv2.imread(test)\n",
    "type(image)"
   ]
  },
  {
   "cell_type": "code",
   "execution_count": null,
   "metadata": {},
   "outputs": [],
   "source": [
    "# Using cv2 to read images\n",
    "images_list = []\n",
    "for i in range(12,22):\n",
    "    image_name = f'{i}_{cam_array}'\n",
    "    image_path = os.path.join(images_path,image_name)    \n",
    "    image = cv2.imread(image_path) # image [0,255]\n",
    "    images_list.append(image)\n",
    "img0 = images_list[0]\n",
    "print(type(img0))\n",
    "print(img0.shape)"
   ]
  },
  {
   "cell_type": "code",
   "execution_count": null,
   "metadata": {},
   "outputs": [],
   "source": [
    "# Using matplotlib.pyplot to read images\n",
    "images_list = []\n",
    "for i in range(12,22):\n",
    "    image_name = f'{i}_{cam_array}'\n",
    "    image_path = os.path.join(images_path,image_name)    \n",
    "    image =plt.imread(image_path)\n",
    "    image = image/255.0 # scaling to [0,1]\n",
    "    images_list.append(image)\n",
    "img0 = images_list[0]\n",
    "print(type(img0))\n",
    "print(img0.shape)"
   ]
  },
  {
   "cell_type": "code",
   "execution_count": null,
   "metadata": {},
   "outputs": [],
   "source": [
    "# Visualizing some images\n",
    "plt.imshow(image_plt[0])\n",
    "plt.title(\"Image0\")\n",
    "\n",
    "plt.figure(figsize=(16,16))\n",
    "plt.subplot(1,3,1)\n",
    "plt.imshow(image_plt[0])\n",
    "plt.subplot(1,3,2)\n",
    "plt.imshow(image_plt[1])\n",
    "plt.subplot(1,3,3)\n",
    "plt.imshow(image_plt[2])\n",
    "plt.show()"
   ]
  },
  {
   "cell_type": "code",
   "execution_count": null,
   "metadata": {},
   "outputs": [],
   "source": []
  }
 ]
}